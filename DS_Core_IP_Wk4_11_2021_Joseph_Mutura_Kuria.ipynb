{
  "nbformat": 4,
  "nbformat_minor": 0,
  "metadata": {
    "colab": {
      "name": "DS_Core_IP_Wk4_11_2021_Joseph_Mutura_Kuria.ipynb",
      "provenance": [],
      "authorship_tag": "ABX9TyOHNBfbGcJcmxNvkUEunePP",
      "include_colab_link": true
    },
    "kernelspec": {
      "name": "python3",
      "display_name": "Python 3"
    },
    "language_info": {
      "name": "python"
    }
  },
  "cells": [
    {
      "cell_type": "markdown",
      "metadata": {
        "id": "view-in-github",
        "colab_type": "text"
      },
      "source": [
        "<a href=\"https://colab.research.google.com/github/Kuriajm/DS_Core_Week4_IP/blob/main/DS_Core_IP_Wk4_11_2021_Joseph_Mutura_Kuria.ipynb\" target=\"_parent\"><img src=\"https://colab.research.google.com/assets/colab-badge.svg\" alt=\"Open In Colab\"/></a>"
      ]
    },
    {
      "cell_type": "markdown",
      "metadata": {
        "id": "yVguzEHZ-AU-"
      },
      "source": [
        "Just like before, we have been tasked to understand electric car usage by solving for another research question. We will work as a Data Scientist for the Autolib electric car-sharing service company to investigate a claim about the blue cars from the provided Autolib dataset.\n",
        "\n",
        "In an effort to do this, we need to identify some areas and periods of interest via sampling stating the reason to the choice of method, then perform hypothesis testing with regards to the claim that we will have made. An example of claim to test would be \"Is the number of Bluecars taken in area X different than in area Y? Is it greater in area X than in area Z? Etc”. The selected periods of interest be either weekdays or weekends but not a mix of both. You can also consider postal codes 75015 vs 75017 to some of the areas of interest. \n",
        "\n",
        "**To work on this project, we will perform the following analysis with Python;** \n",
        "\n",
        "1. Find and deal with outliers, anomalies, and missing data within the dataset.\n",
        "\n",
        "2. Plot appropriate univariate and bivariate summaries recording our observations.\n",
        "\n",
        "3. Implement the solution by performing hypothesis testing.\n",
        "\n",
        "4. This will need to be documented when writing the report."
      ]
    },
    {
      "cell_type": "markdown",
      "metadata": {
        "id": "HU94BC8CLd1k"
      },
      "source": [
        "**Importing the Libraries**"
      ]
    },
    {
      "cell_type": "code",
      "metadata": {
        "id": "0UBU0vmjsMQY"
      },
      "source": [
        "\n",
        "#We import all the libraries needed\n",
        "import pandas as pd\n",
        "import numpy as np\n",
        "import matplotlib.pyplot as plt\n",
        "import seaborn as sns\n"
      ],
      "execution_count": 10,
      "outputs": []
    },
    {
      "cell_type": "markdown",
      "metadata": {
        "id": "W15To9q9_mkI"
      },
      "source": [
        "**1. Load the dataset and determine the appropriateness of the data**"
      ]
    },
    {
      "cell_type": "code",
      "metadata": {
        "id": "YMl0Y8c999GI"
      },
      "source": [
        "#Dataset http://bit.ly/DSCoreAutolibDataset\n",
        "\n",
        "al_df = pd.read_csv('http://bit.ly/DSCoreAutolibDataset')"
      ],
      "execution_count": 11,
      "outputs": []
    },
    {
      "cell_type": "code",
      "metadata": {
        "colab": {
          "base_uri": "https://localhost:8080/",
          "height": 239
        },
        "id": "yyTixKpwSO90",
        "outputId": "a3f3defc-efd7-4c8d-8014-dc1f95131750"
      },
      "source": [
        "#Checking the first entries of our dataset\n",
        "al_df.head()"
      ],
      "execution_count": 12,
      "outputs": [
        {
          "output_type": "execute_result",
          "data": {
            "text/html": [
              "<div>\n",
              "<style scoped>\n",
              "    .dataframe tbody tr th:only-of-type {\n",
              "        vertical-align: middle;\n",
              "    }\n",
              "\n",
              "    .dataframe tbody tr th {\n",
              "        vertical-align: top;\n",
              "    }\n",
              "\n",
              "    .dataframe thead th {\n",
              "        text-align: right;\n",
              "    }\n",
              "</style>\n",
              "<table border=\"1\" class=\"dataframe\">\n",
              "  <thead>\n",
              "    <tr style=\"text-align: right;\">\n",
              "      <th></th>\n",
              "      <th>Postal code</th>\n",
              "      <th>date</th>\n",
              "      <th>n_daily_data_points</th>\n",
              "      <th>dayOfWeek</th>\n",
              "      <th>day_type</th>\n",
              "      <th>BlueCars_taken_sum</th>\n",
              "      <th>BlueCars_returned_sum</th>\n",
              "      <th>Utilib_taken_sum</th>\n",
              "      <th>Utilib_returned_sum</th>\n",
              "      <th>Utilib_14_taken_sum</th>\n",
              "      <th>Utilib_14_returned_sum</th>\n",
              "      <th>Slots_freed_sum</th>\n",
              "      <th>Slots_taken_sum</th>\n",
              "    </tr>\n",
              "  </thead>\n",
              "  <tbody>\n",
              "    <tr>\n",
              "      <th>0</th>\n",
              "      <td>75001</td>\n",
              "      <td>1/1/2018</td>\n",
              "      <td>1440</td>\n",
              "      <td>0</td>\n",
              "      <td>weekday</td>\n",
              "      <td>110</td>\n",
              "      <td>103</td>\n",
              "      <td>3</td>\n",
              "      <td>2</td>\n",
              "      <td>10</td>\n",
              "      <td>9</td>\n",
              "      <td>22</td>\n",
              "      <td>20</td>\n",
              "    </tr>\n",
              "    <tr>\n",
              "      <th>1</th>\n",
              "      <td>75001</td>\n",
              "      <td>1/2/2018</td>\n",
              "      <td>1438</td>\n",
              "      <td>1</td>\n",
              "      <td>weekday</td>\n",
              "      <td>98</td>\n",
              "      <td>94</td>\n",
              "      <td>1</td>\n",
              "      <td>1</td>\n",
              "      <td>8</td>\n",
              "      <td>8</td>\n",
              "      <td>23</td>\n",
              "      <td>22</td>\n",
              "    </tr>\n",
              "    <tr>\n",
              "      <th>2</th>\n",
              "      <td>75001</td>\n",
              "      <td>1/3/2018</td>\n",
              "      <td>1439</td>\n",
              "      <td>2</td>\n",
              "      <td>weekday</td>\n",
              "      <td>138</td>\n",
              "      <td>139</td>\n",
              "      <td>0</td>\n",
              "      <td>0</td>\n",
              "      <td>2</td>\n",
              "      <td>2</td>\n",
              "      <td>27</td>\n",
              "      <td>27</td>\n",
              "    </tr>\n",
              "    <tr>\n",
              "      <th>3</th>\n",
              "      <td>75001</td>\n",
              "      <td>1/4/2018</td>\n",
              "      <td>1320</td>\n",
              "      <td>3</td>\n",
              "      <td>weekday</td>\n",
              "      <td>104</td>\n",
              "      <td>104</td>\n",
              "      <td>2</td>\n",
              "      <td>2</td>\n",
              "      <td>9</td>\n",
              "      <td>8</td>\n",
              "      <td>25</td>\n",
              "      <td>21</td>\n",
              "    </tr>\n",
              "    <tr>\n",
              "      <th>4</th>\n",
              "      <td>75001</td>\n",
              "      <td>1/5/2018</td>\n",
              "      <td>1440</td>\n",
              "      <td>4</td>\n",
              "      <td>weekday</td>\n",
              "      <td>114</td>\n",
              "      <td>117</td>\n",
              "      <td>3</td>\n",
              "      <td>3</td>\n",
              "      <td>6</td>\n",
              "      <td>6</td>\n",
              "      <td>18</td>\n",
              "      <td>20</td>\n",
              "    </tr>\n",
              "  </tbody>\n",
              "</table>\n",
              "</div>"
            ],
            "text/plain": [
              "   Postal code      date  ...  Slots_freed_sum  Slots_taken_sum\n",
              "0        75001  1/1/2018  ...               22               20\n",
              "1        75001  1/2/2018  ...               23               22\n",
              "2        75001  1/3/2018  ...               27               27\n",
              "3        75001  1/4/2018  ...               25               21\n",
              "4        75001  1/5/2018  ...               18               20\n",
              "\n",
              "[5 rows x 13 columns]"
            ]
          },
          "metadata": {},
          "execution_count": 12
        }
      ]
    },
    {
      "cell_type": "code",
      "metadata": {
        "colab": {
          "base_uri": "https://localhost:8080/"
        },
        "id": "JxpnwL9lAMAl",
        "outputId": "6abfc8ce-26fc-4714-b32e-7689b68b04f5"
      },
      "source": [
        "#Checking the shape of our Dataset\n",
        "\n",
        "al_df.shape"
      ],
      "execution_count": 13,
      "outputs": [
        {
          "output_type": "execute_result",
          "data": {
            "text/plain": [
              "(16085, 13)"
            ]
          },
          "metadata": {},
          "execution_count": 13
        }
      ]
    },
    {
      "cell_type": "code",
      "metadata": {
        "colab": {
          "base_uri": "https://localhost:8080/"
        },
        "id": "Qe32Nr75EirE",
        "outputId": "b2589cfc-46be-4bb9-bc0a-0b17d73b8931"
      },
      "source": [
        "#Checking the information of the dataset to understand it further\n",
        "\n",
        "al_df.info()"
      ],
      "execution_count": 14,
      "outputs": [
        {
          "output_type": "stream",
          "name": "stdout",
          "text": [
            "<class 'pandas.core.frame.DataFrame'>\n",
            "RangeIndex: 16085 entries, 0 to 16084\n",
            "Data columns (total 13 columns):\n",
            " #   Column                  Non-Null Count  Dtype \n",
            "---  ------                  --------------  ----- \n",
            " 0   Postal code             16085 non-null  int64 \n",
            " 1   date                    16085 non-null  object\n",
            " 2   n_daily_data_points     16085 non-null  int64 \n",
            " 3   dayOfWeek               16085 non-null  int64 \n",
            " 4   day_type                16085 non-null  object\n",
            " 5   BlueCars_taken_sum      16085 non-null  int64 \n",
            " 6   BlueCars_returned_sum   16085 non-null  int64 \n",
            " 7   Utilib_taken_sum        16085 non-null  int64 \n",
            " 8   Utilib_returned_sum     16085 non-null  int64 \n",
            " 9   Utilib_14_taken_sum     16085 non-null  int64 \n",
            " 10  Utilib_14_returned_sum  16085 non-null  int64 \n",
            " 11  Slots_freed_sum         16085 non-null  int64 \n",
            " 12  Slots_taken_sum         16085 non-null  int64 \n",
            "dtypes: int64(11), object(2)\n",
            "memory usage: 1.6+ MB\n"
          ]
        }
      ]
    },
    {
      "cell_type": "markdown",
      "metadata": {
        "id": "FOnlzNqDE-Ca"
      },
      "source": [
        "This data looks appropriate for our analysis."
      ]
    },
    {
      "cell_type": "markdown",
      "metadata": {
        "id": "Bl_WGKmGFmJ9"
      },
      "source": [
        "**2. Cleaning the data**"
      ]
    },
    {
      "cell_type": "code",
      "metadata": {
        "colab": {
          "base_uri": "https://localhost:8080/"
        },
        "id": "N5dKTD4WE3mQ",
        "outputId": "99156c02-fbcc-4c09-c3b9-84eece9deeb3"
      },
      "source": [
        "#Checking for null values\n",
        "\n",
        "al_df.isnull().sum()"
      ],
      "execution_count": 15,
      "outputs": [
        {
          "output_type": "execute_result",
          "data": {
            "text/plain": [
              "Postal code               0\n",
              "date                      0\n",
              "n_daily_data_points       0\n",
              "dayOfWeek                 0\n",
              "day_type                  0\n",
              "BlueCars_taken_sum        0\n",
              "BlueCars_returned_sum     0\n",
              "Utilib_taken_sum          0\n",
              "Utilib_returned_sum       0\n",
              "Utilib_14_taken_sum       0\n",
              "Utilib_14_returned_sum    0\n",
              "Slots_freed_sum           0\n",
              "Slots_taken_sum           0\n",
              "dtype: int64"
            ]
          },
          "metadata": {},
          "execution_count": 15
        }
      ]
    },
    {
      "cell_type": "markdown",
      "metadata": {
        "id": "ndjtTkh8F8Fi"
      },
      "source": [
        "There are no null values."
      ]
    },
    {
      "cell_type": "code",
      "metadata": {
        "colab": {
          "base_uri": "https://localhost:8080/"
        },
        "id": "6eLec1TLF3O4",
        "outputId": "19339f94-ed82-4f7c-ddd7-e6f68df83cdc"
      },
      "source": [
        "# Checking for Anomalies\n",
        "#\n",
        "al_df.nunique()"
      ],
      "execution_count": 16,
      "outputs": [
        {
          "output_type": "execute_result",
          "data": {
            "text/plain": [
              "Postal code               104\n",
              "date                      156\n",
              "n_daily_data_points        23\n",
              "dayOfWeek                   7\n",
              "day_type                    2\n",
              "BlueCars_taken_sum        932\n",
              "BlueCars_returned_sum     929\n",
              "Utilib_taken_sum           48\n",
              "Utilib_returned_sum        49\n",
              "Utilib_14_taken_sum        92\n",
              "Utilib_14_returned_sum     94\n",
              "Slots_freed_sum           297\n",
              "Slots_taken_sum           301\n",
              "dtype: int64"
            ]
          },
          "metadata": {},
          "execution_count": 16
        }
      ]
    },
    {
      "cell_type": "markdown",
      "metadata": {
        "id": "ZCjkA0QcHU63"
      },
      "source": [
        "Looks ok with no anomalies"
      ]
    },
    {
      "cell_type": "code",
      "metadata": {
        "id": "GxJu68ciGqzp"
      },
      "source": [
        "# Dropping the unecessary columns in our dataset\n",
        "al_df.drop(columns=['n_daily_data_points', 'dayOfWeek','Utilib_taken_sum','Utilib_returned_sum','Utilib_14_taken_sum','Utilib_14_returned_sum','Slots_freed_sum', 'Slots_taken_sum' ] , inplace= True, axis = 1)"
      ],
      "execution_count": 18,
      "outputs": []
    },
    {
      "cell_type": "code",
      "metadata": {
        "colab": {
          "base_uri": "https://localhost:8080/",
          "height": 202
        },
        "id": "l7ss5LejLLnO",
        "outputId": "32252e0b-d08a-4112-b394-4b22f19d62eb"
      },
      "source": [
        "al_df.head()"
      ],
      "execution_count": 19,
      "outputs": [
        {
          "output_type": "execute_result",
          "data": {
            "text/html": [
              "<div>\n",
              "<style scoped>\n",
              "    .dataframe tbody tr th:only-of-type {\n",
              "        vertical-align: middle;\n",
              "    }\n",
              "\n",
              "    .dataframe tbody tr th {\n",
              "        vertical-align: top;\n",
              "    }\n",
              "\n",
              "    .dataframe thead th {\n",
              "        text-align: right;\n",
              "    }\n",
              "</style>\n",
              "<table border=\"1\" class=\"dataframe\">\n",
              "  <thead>\n",
              "    <tr style=\"text-align: right;\">\n",
              "      <th></th>\n",
              "      <th>Postal code</th>\n",
              "      <th>date</th>\n",
              "      <th>day_type</th>\n",
              "      <th>BlueCars_taken_sum</th>\n",
              "      <th>BlueCars_returned_sum</th>\n",
              "    </tr>\n",
              "  </thead>\n",
              "  <tbody>\n",
              "    <tr>\n",
              "      <th>0</th>\n",
              "      <td>75001</td>\n",
              "      <td>1/1/2018</td>\n",
              "      <td>weekday</td>\n",
              "      <td>110</td>\n",
              "      <td>103</td>\n",
              "    </tr>\n",
              "    <tr>\n",
              "      <th>1</th>\n",
              "      <td>75001</td>\n",
              "      <td>1/2/2018</td>\n",
              "      <td>weekday</td>\n",
              "      <td>98</td>\n",
              "      <td>94</td>\n",
              "    </tr>\n",
              "    <tr>\n",
              "      <th>2</th>\n",
              "      <td>75001</td>\n",
              "      <td>1/3/2018</td>\n",
              "      <td>weekday</td>\n",
              "      <td>138</td>\n",
              "      <td>139</td>\n",
              "    </tr>\n",
              "    <tr>\n",
              "      <th>3</th>\n",
              "      <td>75001</td>\n",
              "      <td>1/4/2018</td>\n",
              "      <td>weekday</td>\n",
              "      <td>104</td>\n",
              "      <td>104</td>\n",
              "    </tr>\n",
              "    <tr>\n",
              "      <th>4</th>\n",
              "      <td>75001</td>\n",
              "      <td>1/5/2018</td>\n",
              "      <td>weekday</td>\n",
              "      <td>114</td>\n",
              "      <td>117</td>\n",
              "    </tr>\n",
              "  </tbody>\n",
              "</table>\n",
              "</div>"
            ],
            "text/plain": [
              "   Postal code      date day_type  BlueCars_taken_sum  BlueCars_returned_sum\n",
              "0        75001  1/1/2018  weekday                 110                    103\n",
              "1        75001  1/2/2018  weekday                  98                     94\n",
              "2        75001  1/3/2018  weekday                 138                    139\n",
              "3        75001  1/4/2018  weekday                 104                    104\n",
              "4        75001  1/5/2018  weekday                 114                    117"
            ]
          },
          "metadata": {},
          "execution_count": 19
        }
      ]
    },
    {
      "cell_type": "markdown",
      "metadata": {
        "id": "FhU1pgp5Hbu4"
      },
      "source": [
        "All unneccessary columns dropped."
      ]
    },
    {
      "cell_type": "code",
      "metadata": {
        "colab": {
          "base_uri": "https://localhost:8080/",
          "height": 267
        },
        "id": "Fci46a7xHk6h",
        "outputId": "08e55414-0f93-44f6-d502-ab2aa3b4c08c"
      },
      "source": [
        "# Checking for Outliers\n",
        "#Let's start with the Bluecars_taken \n",
        "boxplot = al_df.boxplot(column=['BlueCars_taken_sum', 'BlueCars_returned_sum'])"
      ],
      "execution_count": 20,
      "outputs": [
        {
          "output_type": "display_data",
          "data": {
            "image/png": "[encoded data removed]",
            "text/plain": [
              "<Figure size 432x288 with 1 Axes>"
            ]
          },
          "metadata": {
            "needs_background": "light"
          }
        }
      ]
    },
    {
      "cell_type": "code",
      "metadata": {
        "colab": {
          "base_uri": "https://localhost:8080/"
        },
        "id": "BU7zPP5ILp3X",
        "outputId": "39dfcc9e-7302-4367-a89c-937e6b2ec4f3"
      },
      "source": [
        "#Removing the outliers using percentile\n",
        "#Starting with the Bluecars taken sum Column\n",
        "max_threshold = al_df['BlueCars_taken_sum'].quantile(0.85)\n",
        "print(max_threshold)\n",
        "min_threshold = al_df['BlueCars_taken_sum'].quantile(0.15)\n",
        "print(min_threshold)\n",
        "al_df2 = al_df[al_df['BlueCars_taken_sum']<= max_threshold]\n",
        "al_df2 = al_df[al_df['BlueCars_taken_sum']> min_threshold]\n",
        "print(al_df2.shape)"
      ],
      "execution_count": 22,
      "outputs": [
        {
          "output_type": "stream",
          "name": "stdout",
          "text": [
            "284.0\n",
            "12.0\n",
            "(13621, 5)\n"
          ]
        }
      ]
    },
    {
      "cell_type": "code",
      "metadata": {
        "colab": {
          "base_uri": "https://localhost:8080/"
        },
        "id": "ow_6jeH0M_i2",
        "outputId": "348f4e53-055a-41eb-f565-60b256e0e371"
      },
      "source": [
        "\n",
        "#Removing the outliers in the Bluecars returned sum Column\n",
        "max_threshold1 = al_df2['BlueCars_returned_sum'].quantile(0.85)\n",
        "print(max_threshold)\n",
        "min_threshold = al_df2['BlueCars_returned_sum'].quantile(0.15)\n",
        "print(min_threshold)\n",
        "al_df3 = al_df2[al_df2['BlueCars_returned_sum']<= max_threshold1]\n",
        "al_df3 = al_df2[al_df2['BlueCars_returned_sum']> min_threshold]\n",
        "print(al_df3.shape)"
      ],
      "execution_count": 23,
      "outputs": [
        {
          "output_type": "stream",
          "name": "stdout",
          "text": [
            "284.0\n",
            "22.0\n",
            "(11563, 5)\n"
          ]
        }
      ]
    },
    {
      "cell_type": "code",
      "metadata": {
        "colab": {
          "base_uri": "https://localhost:8080/",
          "height": 302
        },
        "id": "4cdfJO4BN3Il",
        "outputId": "0c96780c-736e-46fe-d359-b36d518d679c"
      },
      "source": [
        "\n",
        "#Converting datatypes\n",
        "al_df3['date']= pd.to_datetime(al_df3['date']) \n",
        "al_df3.head()"
      ],
      "execution_count": 24,
      "outputs": [
        {
          "output_type": "stream",
          "name": "stderr",
          "text": [
            "/usr/local/lib/python3.7/dist-packages/ipykernel_launcher.py:3: SettingWithCopyWarning: \n",
            "A value is trying to be set on a copy of a slice from a DataFrame.\n",
            "Try using .loc[row_indexer,col_indexer] = value instead\n",
            "\n",
            "See the caveats in the documentation: https://pandas.pydata.org/pandas-docs/stable/user_guide/indexing.html#returning-a-view-versus-a-copy\n",
            "  This is separate from the ipykernel package so we can avoid doing imports until\n"
          ]
        },
        {
          "output_type": "execute_result",
          "data": {
            "text/html": [
              "<div>\n",
              "<style scoped>\n",
              "    .dataframe tbody tr th:only-of-type {\n",
              "        vertical-align: middle;\n",
              "    }\n",
              "\n",
              "    .dataframe tbody tr th {\n",
              "        vertical-align: top;\n",
              "    }\n",
              "\n",
              "    .dataframe thead th {\n",
              "        text-align: right;\n",
              "    }\n",
              "</style>\n",
              "<table border=\"1\" class=\"dataframe\">\n",
              "  <thead>\n",
              "    <tr style=\"text-align: right;\">\n",
              "      <th></th>\n",
              "      <th>Postal code</th>\n",
              "      <th>date</th>\n",
              "      <th>day_type</th>\n",
              "      <th>BlueCars_taken_sum</th>\n",
              "      <th>BlueCars_returned_sum</th>\n",
              "    </tr>\n",
              "  </thead>\n",
              "  <tbody>\n",
              "    <tr>\n",
              "      <th>0</th>\n",
              "      <td>75001</td>\n",
              "      <td>2018-01-01</td>\n",
              "      <td>weekday</td>\n",
              "      <td>110</td>\n",
              "      <td>103</td>\n",
              "    </tr>\n",
              "    <tr>\n",
              "      <th>1</th>\n",
              "      <td>75001</td>\n",
              "      <td>2018-01-02</td>\n",
              "      <td>weekday</td>\n",
              "      <td>98</td>\n",
              "      <td>94</td>\n",
              "    </tr>\n",
              "    <tr>\n",
              "      <th>2</th>\n",
              "      <td>75001</td>\n",
              "      <td>2018-01-03</td>\n",
              "      <td>weekday</td>\n",
              "      <td>138</td>\n",
              "      <td>139</td>\n",
              "    </tr>\n",
              "    <tr>\n",
              "      <th>3</th>\n",
              "      <td>75001</td>\n",
              "      <td>2018-01-04</td>\n",
              "      <td>weekday</td>\n",
              "      <td>104</td>\n",
              "      <td>104</td>\n",
              "    </tr>\n",
              "    <tr>\n",
              "      <th>4</th>\n",
              "      <td>75001</td>\n",
              "      <td>2018-01-05</td>\n",
              "      <td>weekday</td>\n",
              "      <td>114</td>\n",
              "      <td>117</td>\n",
              "    </tr>\n",
              "  </tbody>\n",
              "</table>\n",
              "</div>"
            ],
            "text/plain": [
              "   Postal code       date day_type  BlueCars_taken_sum  BlueCars_returned_sum\n",
              "0        75001 2018-01-01  weekday                 110                    103\n",
              "1        75001 2018-01-02  weekday                  98                     94\n",
              "2        75001 2018-01-03  weekday                 138                    139\n",
              "3        75001 2018-01-04  weekday                 104                    104\n",
              "4        75001 2018-01-05  weekday                 114                    117"
            ]
          },
          "metadata": {},
          "execution_count": 24
        }
      ]
    },
    {
      "cell_type": "markdown",
      "metadata": {
        "id": "G-NatvRzOL_j"
      },
      "source": [
        "Our Dataset is now cleaned and ready for analysis."
      ]
    },
    {
      "cell_type": "markdown",
      "metadata": {
        "id": "wBGZmQxpO7IP"
      },
      "source": [
        "**3. Univariate analysis**"
      ]
    },
    {
      "cell_type": "code",
      "metadata": {
        "colab": {
          "base_uri": "https://localhost:8080/",
          "height": 267
        },
        "id": "DJkhmaYeN_QT",
        "outputId": "1d48eb35-04bd-4c3d-8e49-838216eaa138"
      },
      "source": [
        "#Pie chart showing percentages of Weekdays and weekends.\n",
        "\n",
        "\n",
        "plt.pie(al_df3['day_type'].value_counts(normalize=True), labels =al_df3['day_type'].value_counts().index, autopct = '%1.1f%%', shadow = True,explode=(0.2,0), startangle = 140)\n",
        "plt.axis('equal')\n",
        "plt.title('Pie Chart of Percentage of blue cars on weekdays and weekends')\n",
        "plt.show()"
      ],
      "execution_count": 26,
      "outputs": [
        {
          "output_type": "display_data",
          "data": {
            "image/png": "[encoded data removed]",
            "text/plain": [
              "<Figure size 432x288 with 1 Axes>"
            ]
          },
          "metadata": {}
        }
      ]
    },
    {
      "cell_type": "markdown",
      "metadata": {
        "id": "QzI9kTZxQLOb"
      },
      "source": [
        "We can conclude that weekdays are bussier than weekends in terms of cars taken and returned."
      ]
    },
    {
      "cell_type": "code",
      "metadata": {
        "colab": {
          "base_uri": "https://localhost:8080/",
          "height": 141
        },
        "id": "7PuAWluJTwSS",
        "outputId": "817e4be6-32ca-49de-85ee-f394f50caa93"
      },
      "source": [
        "#Lets now sample the data so that we have separete copies of the weekend and weekday data\n",
        "\n",
        "#Weekend data\n",
        "al_weekend_df = al_df3[al_df3['day_type'] == 'weekend']\n",
        "al_weekend_df.reset_index(drop=True, inplace= True)\n",
        "al_weekend_df.tail(3)"
      ],
      "execution_count": 28,
      "outputs": [
        {
          "output_type": "execute_result",
          "data": {
            "text/html": [
              "<div>\n",
              "<style scoped>\n",
              "    .dataframe tbody tr th:only-of-type {\n",
              "        vertical-align: middle;\n",
              "    }\n",
              "\n",
              "    .dataframe tbody tr th {\n",
              "        vertical-align: top;\n",
              "    }\n",
              "\n",
              "    .dataframe thead th {\n",
              "        text-align: right;\n",
              "    }\n",
              "</style>\n",
              "<table border=\"1\" class=\"dataframe\">\n",
              "  <thead>\n",
              "    <tr style=\"text-align: right;\">\n",
              "      <th></th>\n",
              "      <th>Postal code</th>\n",
              "      <th>date</th>\n",
              "      <th>day_type</th>\n",
              "      <th>BlueCars_taken_sum</th>\n",
              "      <th>BlueCars_returned_sum</th>\n",
              "    </tr>\n",
              "  </thead>\n",
              "  <tbody>\n",
              "    <tr>\n",
              "      <th>3463</th>\n",
              "      <td>95880</td>\n",
              "      <td>2018-06-03</td>\n",
              "      <td>weekend</td>\n",
              "      <td>36</td>\n",
              "      <td>33</td>\n",
              "    </tr>\n",
              "    <tr>\n",
              "      <th>3464</th>\n",
              "      <td>95880</td>\n",
              "      <td>2018-06-10</td>\n",
              "      <td>weekend</td>\n",
              "      <td>34</td>\n",
              "      <td>32</td>\n",
              "    </tr>\n",
              "    <tr>\n",
              "      <th>3465</th>\n",
              "      <td>95880</td>\n",
              "      <td>2018-06-17</td>\n",
              "      <td>weekend</td>\n",
              "      <td>33</td>\n",
              "      <td>35</td>\n",
              "    </tr>\n",
              "  </tbody>\n",
              "</table>\n",
              "</div>"
            ],
            "text/plain": [
              "      Postal code       date  ... BlueCars_taken_sum  BlueCars_returned_sum\n",
              "3463        95880 2018-06-03  ...                 36                     33\n",
              "3464        95880 2018-06-10  ...                 34                     32\n",
              "3465        95880 2018-06-17  ...                 33                     35\n",
              "\n",
              "[3 rows x 5 columns]"
            ]
          },
          "metadata": {},
          "execution_count": 28
        }
      ]
    },
    {
      "cell_type": "code",
      "metadata": {
        "colab": {
          "base_uri": "https://localhost:8080/",
          "height": 141
        },
        "id": "zrMZoy5FUU0R",
        "outputId": "1adcbefa-fec1-450d-efcf-2e4773f8108e"
      },
      "source": [
        "#Weekday data\n",
        "al_weekday_df = al_df3[al_df3['day_type'] == 'weekday']\n",
        "al_weekday_df.reset_index(drop=True, inplace= True)\n",
        "al_weekday_df.tail(3)"
      ],
      "execution_count": 29,
      "outputs": [
        {
          "output_type": "execute_result",
          "data": {
            "text/html": [
              "<div>\n",
              "<style scoped>\n",
              "    .dataframe tbody tr th:only-of-type {\n",
              "        vertical-align: middle;\n",
              "    }\n",
              "\n",
              "    .dataframe tbody tr th {\n",
              "        vertical-align: top;\n",
              "    }\n",
              "\n",
              "    .dataframe thead th {\n",
              "        text-align: right;\n",
              "    }\n",
              "</style>\n",
              "<table border=\"1\" class=\"dataframe\">\n",
              "  <thead>\n",
              "    <tr style=\"text-align: right;\">\n",
              "      <th></th>\n",
              "      <th>Postal code</th>\n",
              "      <th>date</th>\n",
              "      <th>day_type</th>\n",
              "      <th>BlueCars_taken_sum</th>\n",
              "      <th>BlueCars_returned_sum</th>\n",
              "    </tr>\n",
              "  </thead>\n",
              "  <tbody>\n",
              "    <tr>\n",
              "      <th>8094</th>\n",
              "      <td>95880</td>\n",
              "      <td>2018-05-08</td>\n",
              "      <td>weekday</td>\n",
              "      <td>31</td>\n",
              "      <td>32</td>\n",
              "    </tr>\n",
              "    <tr>\n",
              "      <th>8095</th>\n",
              "      <td>95880</td>\n",
              "      <td>2018-05-21</td>\n",
              "      <td>weekday</td>\n",
              "      <td>26</td>\n",
              "      <td>27</td>\n",
              "    </tr>\n",
              "    <tr>\n",
              "      <th>8096</th>\n",
              "      <td>95880</td>\n",
              "      <td>2018-06-12</td>\n",
              "      <td>weekday</td>\n",
              "      <td>25</td>\n",
              "      <td>25</td>\n",
              "    </tr>\n",
              "  </tbody>\n",
              "</table>\n",
              "</div>"
            ],
            "text/plain": [
              "      Postal code       date  ... BlueCars_taken_sum  BlueCars_returned_sum\n",
              "8094        95880 2018-05-08  ...                 31                     32\n",
              "8095        95880 2018-05-21  ...                 26                     27\n",
              "8096        95880 2018-06-12  ...                 25                     25\n",
              "\n",
              "[3 rows x 5 columns]"
            ]
          },
          "metadata": {},
          "execution_count": 29
        }
      ]
    },
    {
      "cell_type": "markdown",
      "metadata": {
        "id": "Ey2kqokYU8yc"
      },
      "source": [
        "**Measures of central Tendancy**"
      ]
    },
    {
      "cell_type": "code",
      "metadata": {
        "colab": {
          "base_uri": "https://localhost:8080/"
        },
        "id": "8AxEEBrBVBkL",
        "outputId": "f28d3348-2433-4f96-e923-1e42ca239ba1"
      },
      "source": [
        "#Calculate measures of central tendency for weekend\n",
        "print('Measures of central tendency for weekends: ')\n",
        "df= al_weekend_df[['BlueCars_returned_sum', 'BlueCars_taken_sum']]\n",
        "print('Mean is: ')\n",
        "print(df.mean())\n",
        "print('Mode is: ')\n",
        "print(df.mode())\n",
        "print('Median is: ')\n",
        "print(df.median())"
      ],
      "execution_count": 31,
      "outputs": [
        {
          "output_type": "stream",
          "name": "stdout",
          "text": [
            "Measures of central tendency for weekends: \n",
            "Mean is: \n",
            "BlueCars_returned_sum    195.390364\n",
            "BlueCars_taken_sum       193.922966\n",
            "dtype: float64\n",
            "Mode is: \n",
            "   BlueCars_returned_sum  BlueCars_taken_sum\n",
            "0                     24                  32\n",
            "Median is: \n",
            "BlueCars_returned_sum    87.0\n",
            "BlueCars_taken_sum       87.0\n",
            "dtype: float64\n"
          ]
        }
      ]
    },
    {
      "cell_type": "code",
      "metadata": {
        "colab": {
          "base_uri": "https://localhost:8080/"
        },
        "id": "fG4XdyznW51y",
        "outputId": "fa597da8-c1e5-4f81-87c9-e4cd6a9d709f"
      },
      "source": [
        "\n",
        "#min and max for the weekend were\n",
        "print('Minimum usage is: ')\n",
        "print(df.min())\n",
        "print('Maximum usage was: ')\n",
        "print(df.max())\n"
      ],
      "execution_count": 36,
      "outputs": [
        {
          "output_type": "stream",
          "name": "stdout",
          "text": [
            "Minimum usage is: \n",
            "BlueCars_returned_sum    23\n",
            "BlueCars_taken_sum       13\n",
            "dtype: int64\n",
            "Maximum usage was: \n",
            "BlueCars_returned_sum    1332\n",
            "BlueCars_taken_sum       1352\n",
            "dtype: int64\n"
          ]
        }
      ]
    },
    {
      "cell_type": "code",
      "metadata": {
        "colab": {
          "base_uri": "https://localhost:8080/"
        },
        "id": "WJESKRg3Xzp1",
        "outputId": "f32ec573-64c3-4af0-d636-8b7251dc3d1b"
      },
      "source": [
        "#quantiles\n",
        "quantiles = df.quantile([0.25,0.5,0.75])\n",
        "print(quantiles)"
      ],
      "execution_count": 37,
      "outputs": [
        {
          "output_type": "stream",
          "name": "stdout",
          "text": [
            "      BlueCars_returned_sum  BlueCars_taken_sum\n",
            "0.25                   46.0               47.00\n",
            "0.50                   87.0               87.00\n",
            "0.75                  252.0              248.75\n"
          ]
        }
      ]
    },
    {
      "cell_type": "code",
      "metadata": {
        "colab": {
          "base_uri": "https://localhost:8080/"
        },
        "id": "-1tMpunJX85t",
        "outputId": "5bf3d1e4-cf5d-403e-859b-83a169500b9f"
      },
      "source": [
        "#Measures of dispersion\n",
        "print('Skew is: ')\n",
        "print(df.skew())\n",
        "print('Kurtosis is: ')\n",
        "print(df.kurtosis())"
      ],
      "execution_count": 38,
      "outputs": [
        {
          "output_type": "stream",
          "name": "stdout",
          "text": [
            "Skew is: \n",
            "BlueCars_returned_sum    1.941318\n",
            "BlueCars_taken_sum       1.961413\n",
            "dtype: float64\n",
            "Kurtosis is: \n",
            "BlueCars_returned_sum    3.429028\n",
            "BlueCars_taken_sum       3.577920\n",
            "dtype: float64\n"
          ]
        }
      ]
    },
    {
      "cell_type": "markdown",
      "metadata": {
        "id": "1ZUNC5yXYRpD"
      },
      "source": [
        "**Weekdays**"
      ]
    },
    {
      "cell_type": "code",
      "metadata": {
        "colab": {
          "base_uri": "https://localhost:8080/"
        },
        "id": "O7cBiOGuV0GS",
        "outputId": "e38f87b1-de55-44a7-89d8-6566c57559ed"
      },
      "source": [
        "#Calculate measures of central tendency for weekdays\n",
        "print('Measures of central tendency for weekdays: ')\n",
        "df2= al_weekday_df[['BlueCars_returned_sum', 'BlueCars_taken_sum']]\n",
        "print('Mean is: ')\n",
        "print(df2.mean())\n",
        "print('Mode is: ')\n",
        "print(df2.mode())\n",
        "print('Median is: ')\n",
        "print(df2.median())"
      ],
      "execution_count": 33,
      "outputs": [
        {
          "output_type": "stream",
          "name": "stdout",
          "text": [
            "Measures of central tendency for weekdays: \n",
            "Mean is: \n",
            "BlueCars_returned_sum    159.834136\n",
            "BlueCars_taken_sum       160.439669\n",
            "dtype: float64\n",
            "Mode is: \n",
            "   BlueCars_returned_sum  BlueCars_taken_sum\n",
            "0                     23                  29\n",
            "Median is: \n",
            "BlueCars_returned_sum    74.0\n",
            "BlueCars_taken_sum       74.0\n",
            "dtype: float64\n"
          ]
        }
      ]
    },
    {
      "cell_type": "code",
      "metadata": {
        "colab": {
          "base_uri": "https://localhost:8080/"
        },
        "id": "hBYOEM0rYdJd",
        "outputId": "a2d9a43e-1910-4d53-8169-ffd172170109"
      },
      "source": [
        "#min and max for the weekdays were\n",
        "print('Minimum usage is: ')\n",
        "print(df2.min())\n",
        "print('Maximum usage was: ')\n",
        "print(df2.max())"
      ],
      "execution_count": 39,
      "outputs": [
        {
          "output_type": "stream",
          "name": "stdout",
          "text": [
            "Minimum usage is: \n",
            "BlueCars_returned_sum    23\n",
            "BlueCars_taken_sum       13\n",
            "dtype: int64\n",
            "Maximum usage was: \n",
            "BlueCars_returned_sum    1056\n",
            "BlueCars_taken_sum       1093\n",
            "dtype: int64\n"
          ]
        }
      ]
    },
    {
      "cell_type": "code",
      "metadata": {
        "colab": {
          "base_uri": "https://localhost:8080/"
        },
        "id": "RBagvkb5Y2Rp",
        "outputId": "1a944889-0e30-4d6d-bc11-83b21ec06244"
      },
      "source": [
        "#quantiles\n",
        "quantiles = df2.quantile([0.25,0.5,0.75])\n",
        "print(quantiles)"
      ],
      "execution_count": 40,
      "outputs": [
        {
          "output_type": "stream",
          "name": "stdout",
          "text": [
            "      BlueCars_returned_sum  BlueCars_taken_sum\n",
            "0.25                   39.0                39.0\n",
            "0.50                   74.0                74.0\n",
            "0.75                  217.0               219.0\n"
          ]
        }
      ]
    },
    {
      "cell_type": "code",
      "metadata": {
        "colab": {
          "base_uri": "https://localhost:8080/"
        },
        "id": "BTTZF5d8Y-88",
        "outputId": "e42d6241-0de5-4fa4-b4d7-b759544c1e5a"
      },
      "source": [
        "#Measures of dispersion\n",
        "print('Skew is: ')\n",
        "print(df2.skew())\n",
        "print('Kurtosis is: ')\n",
        "print(df2.kurtosis())"
      ],
      "execution_count": 45,
      "outputs": [
        {
          "output_type": "stream",
          "name": "stdout",
          "text": [
            "Skew is: \n",
            "BlueCars_returned_sum    1.886631\n",
            "BlueCars_taken_sum       1.883838\n",
            "dtype: float64\n",
            "Kurtosis is: \n",
            "BlueCars_returned_sum    3.332078\n",
            "BlueCars_taken_sum       3.337408\n",
            "dtype: float64\n"
          ]
        }
      ]
    },
    {
      "cell_type": "markdown",
      "metadata": {
        "id": "Su9SImeLWRsU"
      },
      "source": [
        "**3. Bivariate Analysis**"
      ]
    },
    {
      "cell_type": "markdown",
      "metadata": {
        "id": "ltrE1NsTbgjR"
      },
      "source": [
        "Weekend"
      ]
    },
    {
      "cell_type": "code",
      "metadata": {
        "colab": {
          "base_uri": "https://localhost:8080/",
          "height": 370
        },
        "id": "wzIVG3oPeQPk",
        "outputId": "463b3882-b383-4c7a-f990-bbe9ef46152b"
      },
      "source": [
        "#  Relationship between the postal address to the blue cars taken on weekend\n",
        "ax = sns.relplot(x=\"BlueCars_taken_sum\", y=\"Postal code\", hue=\"BlueCars_taken_sum\", data=al_weekend_df)"
      ],
      "execution_count": 50,
      "outputs": [
        {
          "output_type": "display_data",
          "data": {
            "image/png": "[encoded data removed]",
            "text/plain": [
              "<Figure size 471.75x360 with 1 Axes>"
            ]
          },
          "metadata": {
            "needs_background": "light"
          }
        }
      ]
    },
    {
      "cell_type": "code",
      "metadata": {
        "colab": {
          "base_uri": "https://localhost:8080/",
          "height": 295
        },
        "id": "CTAKy3u3ZZdt",
        "outputId": "b87c5ea2-ac16-4f38-c2f4-a5f19efcb623"
      },
      "source": [
        "#Plotting scatter plots\n",
        "plt.scatter(df[\"BlueCars_taken_sum\"] , df[\"BlueCars_returned_sum\"])\n",
        "\n",
        "# Giving our scatterplot a title\n",
        "plt.title('Bluecars taken vs Bluecars taken')\n",
        "\n",
        "# Labelling our x axis\n",
        "plt.xlabel('Bluecars taken')\n",
        "\n",
        "# Labelling our y axis\n",
        "plt.ylabel('Bluecars returned')\n",
        "\n",
        "# We then display our scatterplot as shown below\n",
        "plt.show()"
      ],
      "execution_count": 42,
      "outputs": [
        {
          "output_type": "display_data",
          "data": {
            "image/png": "[encoded data removed]",
            "text/plain": [
              "<Figure size 432x288 with 1 Axes>"
            ]
          },
          "metadata": {
            "needs_background": "light"
          }
        }
      ]
    },
    {
      "cell_type": "markdown",
      "metadata": {
        "id": "b5qyFP8db14o"
      },
      "source": [
        "There is a direct coreration between Blue cars returned and taken during the weekends"
      ]
    },
    {
      "cell_type": "markdown",
      "metadata": {
        "id": "Q4Jhff51cHQg"
      },
      "source": [
        "Weekday"
      ]
    },
    {
      "cell_type": "code",
      "metadata": {
        "colab": {
          "base_uri": "https://localhost:8080/",
          "height": 370
        },
        "id": "WyRoSN91fDy2",
        "outputId": "f87af55d-1e2b-4f8c-f127-a03cf4b92ec0"
      },
      "source": [
        "#  Relationship between the postal address to the blue cars taken on weekday\n",
        "ax = sns.relplot(x=\"BlueCars_taken_sum\", y=\"Postal code\", hue=\"BlueCars_taken_sum\", data=al_weekday_df)"
      ],
      "execution_count": 51,
      "outputs": [
        {
          "output_type": "display_data",
          "data": {
            "image/png": "[encoded data removed]",
            "text/plain": [
              "<Figure size 471.75x360 with 1 Axes>"
            ]
          },
          "metadata": {
            "needs_background": "light"
          }
        }
      ]
    },
    {
      "cell_type": "code",
      "metadata": {
        "colab": {
          "base_uri": "https://localhost:8080/",
          "height": 295
        },
        "id": "Gzig7vuycMmL",
        "outputId": "350cfb7f-ec3d-48f9-8eb7-67386413af29"
      },
      "source": [
        "#Plotting scatter plots\n",
        "plt.scatter(df2[\"BlueCars_taken_sum\"] , df2[\"BlueCars_returned_sum\"])\n",
        "\n",
        "# Giving our scatterplot a title\n",
        "plt.title('Bluecars taken vs Bluecars taken')\n",
        "\n",
        "# Labelling our x axis\n",
        "plt.xlabel('Bluecars taken')\n",
        "\n",
        "# Labelling our y axis\n",
        "plt.ylabel('Bluecars returned')\n",
        "\n",
        "# We then display our scatterplot as shown below\n",
        "plt.show()"
      ],
      "execution_count": 46,
      "outputs": [
        {
          "output_type": "display_data",
          "data": {
            "image/png": "[encoded data removed]",
            "text/plain": [
              "<Figure size 432x288 with 1 Axes>"
            ]
          },
          "metadata": {
            "needs_background": "light"
          }
        }
      ]
    },
    {
      "cell_type": "markdown",
      "metadata": {
        "id": "QcHWIh5mcmc3"
      },
      "source": [
        "There is a direct coreration between Blue cars returned and taken during the weekdays"
      ]
    },
    {
      "cell_type": "markdown",
      "metadata": {
        "id": "ivaYVJkbdvyb"
      },
      "source": [
        "**4. Hypothesis Testing**"
      ]
    },
    {
      "cell_type": "markdown",
      "metadata": {
        "id": "aufbUtNJmI2W"
      },
      "source": [
        "**Null and Alternative hypothesis**\n",
        "\n",
        "Ho: mu₁ = mu₂\n",
        "\n",
        "H1: mu₁ != mu₂\n",
        "\n",
        "alpha = 0.05"
      ]
    },
    {
      "cell_type": "code",
      "metadata": {
        "colab": {
          "base_uri": "https://localhost:8080/"
        },
        "id": "vumtLlOymThc",
        "outputId": "e17cd8ce-e153-4651-d316-28d9a8b3c469"
      },
      "source": [
        "#Our Samples\n",
        "df_weekend = df['BlueCars_taken_sum']\n",
        "df_weekend.head()"
      ],
      "execution_count": 65,
      "outputs": [
        {
          "output_type": "execute_result",
          "data": {
            "text/plain": [
              "0    187\n",
              "1    180\n",
              "2    224\n",
              "3    193\n",
              "4    217\n",
              "Name: BlueCars_taken_sum, dtype: int64"
            ]
          },
          "metadata": {},
          "execution_count": 65
        }
      ]
    },
    {
      "cell_type": "code",
      "metadata": {
        "colab": {
          "base_uri": "https://localhost:8080/"
        },
        "id": "hUXxF4yqmbxp",
        "outputId": "9fe5de9f-bd5d-4469-e335-67e0ecc28f70"
      },
      "source": [
        "df_weekday = df2['BlueCars_taken_sum']\n",
        "df_weekday.head()"
      ],
      "execution_count": 66,
      "outputs": [
        {
          "output_type": "execute_result",
          "data": {
            "text/plain": [
              "0    110\n",
              "1     98\n",
              "2    138\n",
              "3    104\n",
              "4    114\n",
              "Name: BlueCars_taken_sum, dtype: int64"
            ]
          },
          "metadata": {},
          "execution_count": 66
        }
      ]
    },
    {
      "cell_type": "code",
      "metadata": {
        "colab": {
          "base_uri": "https://localhost:8080/"
        },
        "id": "p7nd004AmgY3",
        "outputId": "cf5860d5-f403-4605-9f41-56a349adc0b4"
      },
      "source": [
        "dfwe =df_weekend.sample(n=50,replace=\"False\")\n",
        "dfwe.shape"
      ],
      "execution_count": 69,
      "outputs": [
        {
          "output_type": "execute_result",
          "data": {
            "text/plain": [
              "(50,)"
            ]
          },
          "metadata": {},
          "execution_count": 69
        }
      ]
    },
    {
      "cell_type": "code",
      "metadata": {
        "colab": {
          "base_uri": "https://localhost:8080/"
        },
        "id": "QjIpNbNdm0xq",
        "outputId": "a47f1e1c-318f-4165-ca20-cd16d91575c6"
      },
      "source": [
        "dfwd =df_weekday.sample(n=50,replace=\"False\")\n",
        "dfwd.shape"
      ],
      "execution_count": 70,
      "outputs": [
        {
          "output_type": "execute_result",
          "data": {
            "text/plain": [
              "(50,)"
            ]
          },
          "metadata": {},
          "execution_count": 70
        }
      ]
    },
    {
      "cell_type": "code",
      "metadata": {
        "colab": {
          "base_uri": "https://localhost:8080/"
        },
        "id": "AtaFfv7Jn4yQ",
        "outputId": "c0ebaa83-0291-4cf3-aedb-18cbc830d69b"
      },
      "source": [
        "from scipy.stats import wilcoxon\n",
        "# compare samples\n",
        "stat, p = wilcoxon(dfwe, dfwd)\n",
        "print('Statistics=%.3f, p=%.3f' % (stat, p))\n",
        "# interpret\n",
        "alpha = 0.05\n",
        "if p > alpha:\n",
        "    print('Mean of bluecars taken during weekdays is similar to mean of bluecars taken during the weekend (fail to reject H0)')\n",
        "else:\n",
        "    print('Mean of bluecars taken during weekdays is different to mean of bluecars taken during the weekend (reject H0)')"
      ],
      "execution_count": 71,
      "outputs": [
        {
          "output_type": "stream",
          "name": "stdout",
          "text": [
            "Statistics=575.500, p=0.549\n",
            "Mean of bluecars taken during weekdays is similar to mean of bluecars taken during the weekend (fail to reject H0)\n"
          ]
        }
      ]
    },
    {
      "cell_type": "markdown",
      "metadata": {
        "id": "c7QVJFHHr0eO"
      },
      "source": [
        "**Results**\n",
        "\n",
        "There is no significant difference between blue cars hired on weekends and those hired on weekdays. Therefor we fail to reject the null hypothesis."
      ]
    }
  ]
}